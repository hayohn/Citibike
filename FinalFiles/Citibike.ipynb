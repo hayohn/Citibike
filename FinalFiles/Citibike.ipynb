{
 "cells": [
  {
   "cell_type": "code",
   "execution_count": 1,
   "id": "f521d8cf",
   "metadata": {},
   "outputs": [],
   "source": [
    "import pandas as pd\n",
    "\n",
    "import os\n",
    "\n",
    "from geopy.geocoders import Nominatim\n",
    "\n"
   ]
  },
  {
   "cell_type": "code",
   "execution_count": 5,
   "id": "87c881da",
   "metadata": {},
   "outputs": [],
   "source": [
    "# Specify the base path where the CSV files are located\n",
    "base_path = '/Users/owner/Library/CloudStorage/OneDrive-Personal/CitiBike/FinalFiles/'\n",
    "\n",
    "# Specify the CSV file names\n",
    "csv_files = ['Jan22.csv', 'Jan23.csv', 'Jan24.csv', 'July21.csv', 'July22.csv', 'July23.csv']\n",
    "\n",
    "# Initialize an empty list to store the DataFrames\n",
    "dataframes = []\n",
    "\n",
    "# Iterate over each CSV file and read it into a DataFrame\n",
    "for file in csv_files:\n",
    "    file_path = os.path.join(base_path, file)\n",
    "    df = pd.read_csv(file_path)\n",
    "    dataframes.append(df)\n",
    "\n",
    "# Combine the DataFrames vertically\n",
    "combined_df = pd.concat(dataframes, ignore_index=True)\n",
    "\n",
    "# Perform data cleaning tasks\n",
    "# Remove rows with missing values\n",
    "combined_df = combined_df.dropna()\n",
    "\n",
    "# Convert 'started_at' and 'ended_at' to datetime type\n",
    "combined_df['started_at'] = pd.to_datetime(combined_df['started_at'])\n",
    "combined_df['ended_at'] = pd.to_datetime(combined_df['ended_at'])\n",
    "\n",
    "# Convert 'start_station_id' and 'end_station_id' to string type\n",
    "combined_df['start_station_id'] = combined_df['start_station_id'].astype(str)\n",
    "combined_df['end_station_id'] = combined_df['end_station_id'].astype(str)\n",
    "\n",
    "# Rename columns to match the desired format\n",
    "combined_df = combined_df.rename(columns={\n",
    "    'ride_id': 'ride_id',\n",
    "    'rideable_type': 'rideable_type',\n",
    "    'started_at': 'started_at',\n",
    "    'ended_at': 'ended_at',\n",
    "    'start_station_name': 'start_station_name',\n",
    "    'start_station_id': 'start_station_id',\n",
    "    'end_station_name': 'end_station_name',\n",
    "    'end_station_id': 'end_station_id',\n",
    "    'start_lat': 'start_latitude',\n",
    "    'start_lng': 'start_longitude',\n",
    "    'end_lat': 'end_latitude',\n",
    "    'end_lng': 'end_longitude',\n",
    "    'member_casual': 'member_casual'\n",
    "})\n",
    "\n",
    "\n",
    "output_file = 'Summer_Winter.csv'\n",
    "output_path = os.path.join(base_path, output_file)\n",
    "combined_df.to_csv(output_path, index=False)\n"
   ]
  },
  {
   "cell_type": "code",
   "execution_count": null,
   "id": "49490f76",
   "metadata": {},
   "outputs": [],
   "source": []
  }
 ],
 "metadata": {
  "kernelspec": {
   "display_name": "Python 3 (ipykernel)",
   "language": "python",
   "name": "python3"
  },
  "language_info": {
   "codemirror_mode": {
    "name": "ipython",
    "version": 3
   },
   "file_extension": ".py",
   "mimetype": "text/x-python",
   "name": "python",
   "nbconvert_exporter": "python",
   "pygments_lexer": "ipython3",
   "version": "3.9.18"
  }
 },
 "nbformat": 4,
 "nbformat_minor": 5
}
